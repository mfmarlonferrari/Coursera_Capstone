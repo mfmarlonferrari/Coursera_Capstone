{
  "cells": [
    {
      "metadata": {},
      "cell_type": "markdown",
      "source": "## Welcome to the First Step of The Capstone!!"
    },
    {
      "metadata": {},
      "cell_type": "markdown",
      "source": "This document is going to be used for the Capstone Data Science project at Coursera.\nWe're trying to do a nice job at it!\nFollow!"
    },
    {
      "metadata": {
        "trusted": true
      },
      "cell_type": "code",
      "source": "import pandas as pd\n# what version??\nprint(pd.__version__)",
      "execution_count": 9,
      "outputs": [
        {
          "output_type": "stream",
          "text": "0.19.2\n",
          "name": "stdout"
        }
      ]
    },
    {
      "metadata": {
        "trusted": true
      },
      "cell_type": "code",
      "source": "import numpy as np",
      "execution_count": 10,
      "outputs": []
    },
    {
      "metadata": {
        "trusted": true
      },
      "cell_type": "code",
      "source": "# let's test numpy\nnp.mean([1,2,3,4,5,6])",
      "execution_count": 11,
      "outputs": [
        {
          "output_type": "execute_result",
          "execution_count": 11,
          "data": {
            "text/plain": "3.5"
          },
          "metadata": {}
        }
      ]
    },
    {
      "metadata": {
        "trusted": true
      },
      "cell_type": "code",
      "source": "print('Hello Capstone Project Course!')",
      "execution_count": 12,
      "outputs": [
        {
          "output_type": "stream",
          "text": "Hello Capstone Project Course!\n",
          "name": "stdout"
        }
      ]
    },
    {
      "metadata": {
        "trusted": true
      },
      "cell_type": "code",
      "source": "",
      "execution_count": null,
      "outputs": []
    },
    {
      "metadata": {
        "trusted": true
      },
      "cell_type": "code",
      "source": "",
      "execution_count": null,
      "outputs": []
    }
  ],
  "metadata": {
    "kernelspec": {
      "name": "python3",
      "display_name": "Python 3",
      "language": "python"
    },
    "language_info": {
      "mimetype": "text/x-python",
      "nbconvert_exporter": "python",
      "name": "python",
      "pygments_lexer": "ipython3",
      "version": "3.5.4",
      "file_extension": ".py",
      "codemirror_mode": {
        "version": 3,
        "name": "ipython"
      }
    }
  },
  "nbformat": 4,
  "nbformat_minor": 1
}