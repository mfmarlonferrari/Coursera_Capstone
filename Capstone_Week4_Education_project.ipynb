{
  "cells": [
    {
      "metadata": {},
      "cell_type": "markdown",
      "source": "# Capstone Project - The Battle of the Neighborhoods (Week 1)\n### Applied Data Science Capstone by IBM/Coursera"
    },
    {
      "metadata": {},
      "cell_type": "markdown",
      "source": "## Table of contents\n* [Introduction: Business Problem](#introduction)\n* [Data](#data)\n* [Methodology](#methodology)"
    },
    {
      "metadata": {
        "collapsed": true
      },
      "cell_type": "markdown",
      "source": "# 1. Introduction <a name=\"introduction\"></a>\nA description of the problem and a discussion of the background\n\nThe Internet revolution brought more than social medias and faster information exchanges. It brought also a generation of people who studies through the digital environments. Under this context, the online education evolved quickly and the transformation of the societies really started. Nowadays, people in distant places, poor countries can benefit from technology to achieve information and in this case, the Massive Open Online Courses, MOOCs had a major role.\nMOOCs can join people all around the world to achieve understand in a wide range of areas, delivering science and culture.\n\nIt is known, also, that online learning suffers massive unenrollment. The logical border and the lack of motivation can make the students leave. Under this context, what are the related features which causes it? How understand the student scenario and predict his churn or low grades?\nI think that is a relevant point. If MOOCs platforms achieve student understanding and predicting, I think it's possible to menage the student's churn and find a way to give them the needed motivation.\n\nWith this set in mind, I started a search for MOOCs generated Students Data to investigate and prepare some conclusions about the theme.\n"
    },
    {
      "metadata": {},
      "cell_type": "markdown",
      "source": "# 2. Data\nA description of the data and how it will be used to solve the problem\n\nTo guide my investigation, I was looking for a Set to help to understand the student's behavior, motivation and correlated characteristics in order to better understand why or how is the result of an enrollment. So, it is important to find a dataset with some key features like grade, gender, enrollment levels, and so on. Location data is also important to understand cultural marks, which will be explored by locations APIs.\nGuided by the analysis exploration, I'll be able to build a model to predict student's behavior or results.\nAfter querying correlated datasets in order to find those with better columns, I found a nice DataSet from Kaggle called \"Students' Academic Performance Dataset\". You can check it here https://www.kaggle.com/aljarah/xAPI-Edu-Data.\n<p> The data compounds 16 columns with aggregated informations about over 480 students of a Learning Platform called Kalboard360. The datails will be shown next section.\n"
    },
    {
      "metadata": {},
      "cell_type": "markdown",
      "source": "## 2.1 Data Structure"
    },
    {
      "metadata": {
        "trusted": true
      },
      "cell_type": "markdown",
      "source": "As previously mentioned, this dataset includes 16 columns:\n\n1. Gender - student's gender (nominal: 'Male' or 'Female’)\n\n2. Nationality- student's nationality (nominal:’ Kuwait’,’ Lebanon’,’ Egypt’,’ SaudiArabia’,’ USA’,’ Jordan’,’ Venezuela’,’ Iran’,’ Tunis’,’ Morocco’,’ Syria’,’ Palestine’,’ Iraq’,’ Lybia’)\n\n3. Place of birth- student's Place of birth (nominal:’ Kuwait’,’ Lebanon’,’ Egypt’,’ SaudiArabia’,’ USA’,’ Jordan’,’ Venezuela’,’ Iran’,’ Tunis’,’ Morocco’,’ Syria’,’ Palestine’,’ Iraq’,’ Lybia’)\n\n4. Educational Stages- educational level student belongs (nominal: ‘lowerlevel’,’MiddleSchool’,’HighSchool’)\n\n5. Grade Levels- grade student belongs (nominal: ‘G-01’, ‘G-02’, ‘G-03’, ‘G-04’, ‘G-05’, ‘G-06’, ‘G-07’, ‘G-08’, ‘G-09’, ‘G-10’, ‘G-11’, ‘G-12 ‘)\n\n6. Section ID- classroom student belongs (nominal:’A’,’B’,’C’)\n\n7. Topic- course topic (nominal:’ English’,’ Spanish’, ‘French’,’ Arabic’,’ IT’,’ Math’,’ Chemistry’, ‘Biology’, ‘Science’,’ History’,’ Quran’,’ Geology’)\n\n8. Semester- school year semester (nominal:’ First’,’ Second’)\n\n9. Parent responsible for student (nominal:’mom’,’father’)\n\n10. Raised hand- how many times the student raises his/her hand on classroom (numeric:0-100)\n\n11. Visited resources- how many times the student visits a course content(numeric:0-100)\n\n12. Viewing announcements-how many times the student checks the new announcements(numeric:0-100)\n\n13. Discussion groups- how many times the student participate on discussion groups (numeric:0-100)\n\n14. Parent Answering Survey- parent answered the surveys which are provided from school or not (nominal:’Yes’,’No’)\n\n15. Parent School Satisfaction- the Degree of parent satisfaction from school(nominal:’Yes’,’No’)\n\n16. Student Absence Days-the number of absence days for each student (nominal: above-7, under-7)\n\nThe most important characteristic of this dataset is that it has included the parent's data, which is a nice approach to understand the student."
    },
    {
      "metadata": {
        "trusted": true
      },
      "cell_type": "markdown",
      "source": "# 3. Methodology\n\nThe first steps are the data exploration and insight-taking approach in order to better understand the data and the columns. The purpose of this exploratory analysis is to identify hidden features and understand the relations between the features.\nNext, I'll do a descritive analysis by building a dataset for a clustering algorithm. This way, the data understanding will become a more powerfull decision making, focused on student's behaviors.\nFinally, I'll create a my predictive analysis by building a dataset with the best features for a supervised learning algorithm to predict the student's beahvior under certain conditions, which will achieve my final objective."
    }
  ],
  "metadata": {
    "kernelspec": {
      "name": "python36",
      "display_name": "Python 3.6",
      "language": "python"
    },
    "language_info": {
      "mimetype": "text/x-python",
      "nbconvert_exporter": "python",
      "name": "python",
      "pygments_lexer": "ipython3",
      "version": "3.6.6",
      "file_extension": ".py",
      "codemirror_mode": {
        "version": 3,
        "name": "ipython"
      }
    }
  },
  "nbformat": 4,
  "nbformat_minor": 2
}