{
  "cells": [
    {
      "metadata": {},
      "cell_type": "markdown",
      "source": "# Capstone Project - The Battle of the Neighborhoods (Week 2)\n### Applied Data Science Capstone by IBM/Coursera"
    },
    {
      "metadata": {},
      "cell_type": "markdown",
      "source": "## Table of contents\n* [Introduction: Business Problem](#introduction)\n* [Data](#data)\n* [Methodology](#methodology)\n* [Analysis](#analysis)\n* [Results and Discussion](#results)\n* [Conclusion](#conclusion)"
    },
    {
      "metadata": {
        "collapsed": true
      },
      "cell_type": "markdown",
      "source": "# 1. Introduction <a name=\"introduction\"></a>\nA description of the problem and a discussion of the background\n\nThe Internet revolution brought more than social medias and faster information exchanges. It brought also a generation of people who studies through the digital environments. Under this context, the online education evolved quickly and the transformation of the societies really started. Nowadays, people in distant places, poor countries can benefit from technology to achieve information and in this case, the Massive Open Online Courses, MOOCs had a major role.\nMOOCs can join people all around the world to achieve understand in a wide range of areas, delivering science and culture.\n\nIt is known, also, that online learning suffers massive unenrollment. The logical border and the lack of motivation can make the students leave. Under this context, what are the related features which causes it? How understand the student scenario and predict his churn or low grades?\nI think that is a relevant point. If MOOCs platforms achieve student understanding and predicting, I think it's possible to menage the student's churn and find a way to give them the needed motivation.\n\nWith this set in mind, I started a search for MOOCs generated Students Data to investigate and prepare some conclusions about the theme.\n"
    },
    {
      "metadata": {},
      "cell_type": "markdown",
      "source": "# 2. Data\nA description of the data and how it will be used to solve the problem\n\nTo guide my investigation, I was looking for a Set to help to understand the student's behavior, motivation and correlated characteristics in order to better understand why or how is the result of an enrollment. So, it is important to find a dataset with some key features like grade, gender, enrollment levels, and so on. Location data is also important to understand cultural marks, which will be explored by locations APIs.\nGuided by the analysis exploration, I'll be able to build a model to predict student's behavior or results.\nAfter querying correlated datasets in order to find those with better columns, I found a nice DataSet from Kaggle called \"Students' Academic Performance Dataset\". You can check it here https://www.kaggle.com/aljarah/xAPI-Edu-Data.\n<p> The data compounds 16 columns with aggregated informations about over 480 students of a Learning Platform called Kalboard360. The datails will be shown next section.\n"
    },
    {
      "metadata": {},
      "cell_type": "markdown",
      "source": "## 2.1 Data Structure"
    },
    {
      "metadata": {
        "trusted": true
      },
      "cell_type": "markdown",
      "source": "As previously mentioned, this dataset includes 16 columns:\n\n1. Gender - student's gender (nominal: 'Male' or 'Female’)\n\n2. Nationality- student's nationality (nominal:’ Kuwait’,’ Lebanon’,’ Egypt’,’ SaudiArabia’,’ USA’,’ Jordan’,’ Venezuela’,’ Iran’,’ Tunis’,’ Morocco’,’ Syria’,’ Palestine’,’ Iraq’,’ Lybia’)\n\n3. Place of birth- student's Place of birth (nominal:’ Kuwait’,’ Lebanon’,’ Egypt’,’ SaudiArabia’,’ USA’,’ Jordan’,’ Venezuela’,’ Iran’,’ Tunis’,’ Morocco’,’ Syria’,’ Palestine’,’ Iraq’,’ Lybia’)\n\n4. Educational Stages- educational level student belongs (nominal: ‘lowerlevel’,’MiddleSchool’,’HighSchool’)\n\n5. Grade Levels- grade student belongs (nominal: ‘G-01’, ‘G-02’, ‘G-03’, ‘G-04’, ‘G-05’, ‘G-06’, ‘G-07’, ‘G-08’, ‘G-09’, ‘G-10’, ‘G-11’, ‘G-12 ‘)\n\n6. Section ID- classroom student belongs (nominal:’A’,’B’,’C’)\n\n7. Topic- course topic (nominal:’ English’,’ Spanish’, ‘French’,’ Arabic’,’ IT’,’ Math’,’ Chemistry’, ‘Biology’, ‘Science’,’ History’,’ Quran’,’ Geology’)\n\n8. Semester- school year semester (nominal:’ First’,’ Second’)\n\n9. Parent responsible for student (nominal:’mom’,’father’)\n\n10. Raised hand- how many times the student raises his/her hand on classroom (numeric:0-100)\n\n11. Visited resources- how many times the student visits a course content(numeric:0-100)\n\n12. Viewing announcements-how many times the student checks the new announcements(numeric:0-100)\n\n13. Discussion groups- how many times the student participate on discussion groups (numeric:0-100)\n\n14. Parent Answering Survey- parent answered the surveys which are provided from school or not (nominal:’Yes’,’No’)\n\n15. Parent School Satisfaction- the Degree of parent satisfaction from school(nominal:’Yes’,’No’)\n\n16. Student Absence Days-the number of absence days for each student (nominal: above-7, under-7)\n\nThe most important characteristic of this dataset is that it has included the parent's data, which is a nice approach to understand the student."
    },
    {
      "metadata": {
        "trusted": true
      },
      "cell_type": "markdown",
      "source": "# 3. Methodology\n\nThe first steps are the data exploration and insight-taking approach in order to better understand the data and the columns. The purpose of this exploratory analysis is to identify hidden features and understand the relations between the features.\nNext, I'll do a descritive analysis by building a dataset for a clustering algorithm. This way, the data understanding will become a more powerfull decision making, focused on student's behaviors.\nFinally, I'll create a my predictive analysis by building a dataset with the best features for a supervised learning algorithm to predict the student's beahvior under certain conditions, which will achieve my final objective."
    },
    {
      "metadata": {
        "trusted": true
      },
      "cell_type": "markdown",
      "source": "# 4. Analysis"
    },
    {
      "metadata": {
        "trusted": true
      },
      "cell_type": "markdown",
      "source": "As mentioned, this section will understand the data in order to compose the clustering dataset."
    },
    {
      "metadata": {},
      "cell_type": "markdown",
      "source": "### 4.1 Exploratory Analysis"
    },
    {
      "metadata": {
        "trusted": true
      },
      "cell_type": "code",
      "source": "import pandas as pd\nimport seaborn as sns\nimport numpy as np\nimport matplotlib.pyplot as plt",
      "execution_count": 1,
      "outputs": []
    },
    {
      "metadata": {
        "trusted": true
      },
      "cell_type": "code",
      "source": "dataset = pd.read_csv('xAPI-Edu-Data.csv')\ndataset.head(5)",
      "execution_count": 2,
      "outputs": [
        {
          "output_type": "execute_result",
          "execution_count": 2,
          "data": {
            "text/html": "<div>\n<style scoped>\n    .dataframe tbody tr th:only-of-type {\n        vertical-align: middle;\n    }\n\n    .dataframe tbody tr th {\n        vertical-align: top;\n    }\n\n    .dataframe thead th {\n        text-align: right;\n    }\n</style>\n<table border=\"1\" class=\"dataframe\">\n  <thead>\n    <tr style=\"text-align: right;\">\n      <th></th>\n      <th>gender</th>\n      <th>NationalITy</th>\n      <th>PlaceofBirth</th>\n      <th>StageID</th>\n      <th>GradeID</th>\n      <th>SectionID</th>\n      <th>Topic</th>\n      <th>Semester</th>\n      <th>Relation</th>\n      <th>raisedhands</th>\n      <th>VisITedResources</th>\n      <th>AnnouncementsView</th>\n      <th>Discussion</th>\n      <th>ParentAnsweringSurvey</th>\n      <th>ParentschoolSatisfaction</th>\n      <th>StudentAbsenceDays</th>\n      <th>Class</th>\n    </tr>\n  </thead>\n  <tbody>\n    <tr>\n      <th>0</th>\n      <td>M</td>\n      <td>KW</td>\n      <td>KuwaIT</td>\n      <td>lowerlevel</td>\n      <td>G-04</td>\n      <td>A</td>\n      <td>IT</td>\n      <td>F</td>\n      <td>Father</td>\n      <td>15</td>\n      <td>16</td>\n      <td>2</td>\n      <td>20</td>\n      <td>Yes</td>\n      <td>Good</td>\n      <td>Under-7</td>\n      <td>M</td>\n    </tr>\n    <tr>\n      <th>1</th>\n      <td>M</td>\n      <td>KW</td>\n      <td>KuwaIT</td>\n      <td>lowerlevel</td>\n      <td>G-04</td>\n      <td>A</td>\n      <td>IT</td>\n      <td>F</td>\n      <td>Father</td>\n      <td>20</td>\n      <td>20</td>\n      <td>3</td>\n      <td>25</td>\n      <td>Yes</td>\n      <td>Good</td>\n      <td>Under-7</td>\n      <td>M</td>\n    </tr>\n    <tr>\n      <th>2</th>\n      <td>M</td>\n      <td>KW</td>\n      <td>KuwaIT</td>\n      <td>lowerlevel</td>\n      <td>G-04</td>\n      <td>A</td>\n      <td>IT</td>\n      <td>F</td>\n      <td>Father</td>\n      <td>10</td>\n      <td>7</td>\n      <td>0</td>\n      <td>30</td>\n      <td>No</td>\n      <td>Bad</td>\n      <td>Above-7</td>\n      <td>L</td>\n    </tr>\n    <tr>\n      <th>3</th>\n      <td>M</td>\n      <td>KW</td>\n      <td>KuwaIT</td>\n      <td>lowerlevel</td>\n      <td>G-04</td>\n      <td>A</td>\n      <td>IT</td>\n      <td>F</td>\n      <td>Father</td>\n      <td>30</td>\n      <td>25</td>\n      <td>5</td>\n      <td>35</td>\n      <td>No</td>\n      <td>Bad</td>\n      <td>Above-7</td>\n      <td>L</td>\n    </tr>\n    <tr>\n      <th>4</th>\n      <td>M</td>\n      <td>KW</td>\n      <td>KuwaIT</td>\n      <td>lowerlevel</td>\n      <td>G-04</td>\n      <td>A</td>\n      <td>IT</td>\n      <td>F</td>\n      <td>Father</td>\n      <td>40</td>\n      <td>50</td>\n      <td>12</td>\n      <td>50</td>\n      <td>No</td>\n      <td>Bad</td>\n      <td>Above-7</td>\n      <td>M</td>\n    </tr>\n  </tbody>\n</table>\n</div>",
            "text/plain": "  gender NationalITy PlaceofBirth     StageID GradeID SectionID Topic  \\\n0      M          KW       KuwaIT  lowerlevel    G-04         A    IT   \n1      M          KW       KuwaIT  lowerlevel    G-04         A    IT   \n2      M          KW       KuwaIT  lowerlevel    G-04         A    IT   \n3      M          KW       KuwaIT  lowerlevel    G-04         A    IT   \n4      M          KW       KuwaIT  lowerlevel    G-04         A    IT   \n\n  Semester Relation  raisedhands  VisITedResources  AnnouncementsView  \\\n0        F   Father           15                16                  2   \n1        F   Father           20                20                  3   \n2        F   Father           10                 7                  0   \n3        F   Father           30                25                  5   \n4        F   Father           40                50                 12   \n\n   Discussion ParentAnsweringSurvey ParentschoolSatisfaction  \\\n0          20                   Yes                     Good   \n1          25                   Yes                     Good   \n2          30                    No                      Bad   \n3          35                    No                      Bad   \n4          50                    No                      Bad   \n\n  StudentAbsenceDays Class  \n0            Under-7     M  \n1            Under-7     M  \n2            Above-7     L  \n3            Above-7     L  \n4            Above-7     M  "
          },
          "metadata": {}
        }
      ]
    },
    {
      "metadata": {},
      "cell_type": "markdown",
      "source": "In the context to understand the student and his results, setting up a dataframe with certain columns"
    },
    {
      "metadata": {
        "trusted": true
      },
      "cell_type": "code",
      "source": "df = dataset[['gender','PlaceofBirth','StageID','Topic','raisedhands','VisITedResources','AnnouncementsView','Discussion', 'ParentAnsweringSurvey','ParentschoolSatisfaction','StudentAbsenceDays', 'Class']]\ndf.head()",
      "execution_count": 3,
      "outputs": [
        {
          "output_type": "execute_result",
          "execution_count": 3,
          "data": {
            "text/html": "<div>\n<style scoped>\n    .dataframe tbody tr th:only-of-type {\n        vertical-align: middle;\n    }\n\n    .dataframe tbody tr th {\n        vertical-align: top;\n    }\n\n    .dataframe thead th {\n        text-align: right;\n    }\n</style>\n<table border=\"1\" class=\"dataframe\">\n  <thead>\n    <tr style=\"text-align: right;\">\n      <th></th>\n      <th>gender</th>\n      <th>PlaceofBirth</th>\n      <th>StageID</th>\n      <th>Topic</th>\n      <th>raisedhands</th>\n      <th>VisITedResources</th>\n      <th>AnnouncementsView</th>\n      <th>Discussion</th>\n      <th>ParentAnsweringSurvey</th>\n      <th>ParentschoolSatisfaction</th>\n      <th>StudentAbsenceDays</th>\n      <th>Class</th>\n    </tr>\n  </thead>\n  <tbody>\n    <tr>\n      <th>0</th>\n      <td>M</td>\n      <td>KuwaIT</td>\n      <td>lowerlevel</td>\n      <td>IT</td>\n      <td>15</td>\n      <td>16</td>\n      <td>2</td>\n      <td>20</td>\n      <td>Yes</td>\n      <td>Good</td>\n      <td>Under-7</td>\n      <td>M</td>\n    </tr>\n    <tr>\n      <th>1</th>\n      <td>M</td>\n      <td>KuwaIT</td>\n      <td>lowerlevel</td>\n      <td>IT</td>\n      <td>20</td>\n      <td>20</td>\n      <td>3</td>\n      <td>25</td>\n      <td>Yes</td>\n      <td>Good</td>\n      <td>Under-7</td>\n      <td>M</td>\n    </tr>\n    <tr>\n      <th>2</th>\n      <td>M</td>\n      <td>KuwaIT</td>\n      <td>lowerlevel</td>\n      <td>IT</td>\n      <td>10</td>\n      <td>7</td>\n      <td>0</td>\n      <td>30</td>\n      <td>No</td>\n      <td>Bad</td>\n      <td>Above-7</td>\n      <td>L</td>\n    </tr>\n    <tr>\n      <th>3</th>\n      <td>M</td>\n      <td>KuwaIT</td>\n      <td>lowerlevel</td>\n      <td>IT</td>\n      <td>30</td>\n      <td>25</td>\n      <td>5</td>\n      <td>35</td>\n      <td>No</td>\n      <td>Bad</td>\n      <td>Above-7</td>\n      <td>L</td>\n    </tr>\n    <tr>\n      <th>4</th>\n      <td>M</td>\n      <td>KuwaIT</td>\n      <td>lowerlevel</td>\n      <td>IT</td>\n      <td>40</td>\n      <td>50</td>\n      <td>12</td>\n      <td>50</td>\n      <td>No</td>\n      <td>Bad</td>\n      <td>Above-7</td>\n      <td>M</td>\n    </tr>\n  </tbody>\n</table>\n</div>",
            "text/plain": "  gender PlaceofBirth     StageID Topic  raisedhands  VisITedResources  \\\n0      M       KuwaIT  lowerlevel    IT           15                16   \n1      M       KuwaIT  lowerlevel    IT           20                20   \n2      M       KuwaIT  lowerlevel    IT           10                 7   \n3      M       KuwaIT  lowerlevel    IT           30                25   \n4      M       KuwaIT  lowerlevel    IT           40                50   \n\n   AnnouncementsView  Discussion ParentAnsweringSurvey  \\\n0                  2          20                   Yes   \n1                  3          25                   Yes   \n2                  0          30                    No   \n3                  5          35                    No   \n4                 12          50                    No   \n\n  ParentschoolSatisfaction StudentAbsenceDays Class  \n0                     Good            Under-7     M  \n1                     Good            Under-7     M  \n2                      Bad            Above-7     L  \n3                      Bad            Above-7     L  \n4                      Bad            Above-7     M  "
          },
          "metadata": {}
        }
      ]
    },
    {
      "metadata": {},
      "cell_type": "markdown",
      "source": "Try to understand the results from countries"
    },
    {
      "metadata": {
        "trusted": true
      },
      "cell_type": "code",
      "source": "df.groupby(['ParentschoolSatisfaction'])['Class'].value_counts(normalize=True)\n",
      "execution_count": 4,
      "outputs": [
        {
          "output_type": "execute_result",
          "execution_count": 4,
          "data": {
            "text/plain": "ParentschoolSatisfaction  Class\nBad                       L        0.446809\n                          M        0.425532\n                          H        0.127660\nGood                      M        0.448630\n                          H        0.404110\n                          L        0.147260\nName: Class, dtype: float64"
          },
          "metadata": {}
        }
      ]
    },
    {
      "metadata": {
        "trusted": true
      },
      "cell_type": "code",
      "source": "df.groupby(['ParentAnsweringSurvey'])['ParentschoolSatisfaction'].value_counts(normalize=True)",
      "execution_count": 5,
      "outputs": [
        {
          "output_type": "execute_result",
          "execution_count": 5,
          "data": {
            "text/plain": "ParentAnsweringSurvey  ParentschoolSatisfaction\nNo                     Bad                         0.690476\n                       Good                        0.309524\nYes                    Good                        0.840741\n                       Bad                         0.159259\nName: ParentschoolSatisfaction, dtype: float64"
          },
          "metadata": {}
        }
      ]
    },
    {
      "metadata": {},
      "cell_type": "markdown",
      "source": "It seems that parents which aren't envolved in answering the scholar's surveys are likely to become unsatisfied with the School. This can mean that well informed parents can better understand the student's enrollment and reality and are better satisfied."
    },
    {
      "metadata": {},
      "cell_type": "markdown",
      "source": "### Question: What is the relation between active parents and student's classification?"
    },
    {
      "metadata": {
        "trusted": true
      },
      "cell_type": "code",
      "source": "df.groupby(['ParentAnsweringSurvey'])['Class'].value_counts(normalize=True)",
      "execution_count": 6,
      "outputs": [
        {
          "output_type": "execute_result",
          "execution_count": 6,
          "data": {
            "text/plain": "ParentAnsweringSurvey  Class\nNo                     L        0.471429\n                       M        0.395238\n                       H        0.133333\nYes                    M        0.474074\n                       H        0.422222\n                       L        0.103704\nName: Class, dtype: float64"
          },
          "metadata": {}
        }
      ]
    },
    {
      "metadata": {
        "trusted": true
      },
      "cell_type": "markdown",
      "source": "So, definitively parent's active behavior has an important role on student's growth."
    },
    {
      "metadata": {},
      "cell_type": "markdown",
      "source": "## Understanding student's behavior "
    },
    {
      "metadata": {},
      "cell_type": "markdown",
      "source": "Next, it is important to know what characteristics are linked to students sucess. So, we're going to test the features related."
    },
    {
      "metadata": {
        "trusted": true
      },
      "cell_type": "code",
      "source": "df2 = dataset[['gender','raisedhands','VisITedResources','AnnouncementsView','Discussion','StudentAbsenceDays', 'Class']]\ndf2.head()",
      "execution_count": 7,
      "outputs": [
        {
          "output_type": "execute_result",
          "execution_count": 7,
          "data": {
            "text/html": "<div>\n<style scoped>\n    .dataframe tbody tr th:only-of-type {\n        vertical-align: middle;\n    }\n\n    .dataframe tbody tr th {\n        vertical-align: top;\n    }\n\n    .dataframe thead th {\n        text-align: right;\n    }\n</style>\n<table border=\"1\" class=\"dataframe\">\n  <thead>\n    <tr style=\"text-align: right;\">\n      <th></th>\n      <th>gender</th>\n      <th>raisedhands</th>\n      <th>VisITedResources</th>\n      <th>AnnouncementsView</th>\n      <th>Discussion</th>\n      <th>StudentAbsenceDays</th>\n      <th>Class</th>\n    </tr>\n  </thead>\n  <tbody>\n    <tr>\n      <th>0</th>\n      <td>M</td>\n      <td>15</td>\n      <td>16</td>\n      <td>2</td>\n      <td>20</td>\n      <td>Under-7</td>\n      <td>M</td>\n    </tr>\n    <tr>\n      <th>1</th>\n      <td>M</td>\n      <td>20</td>\n      <td>20</td>\n      <td>3</td>\n      <td>25</td>\n      <td>Under-7</td>\n      <td>M</td>\n    </tr>\n    <tr>\n      <th>2</th>\n      <td>M</td>\n      <td>10</td>\n      <td>7</td>\n      <td>0</td>\n      <td>30</td>\n      <td>Above-7</td>\n      <td>L</td>\n    </tr>\n    <tr>\n      <th>3</th>\n      <td>M</td>\n      <td>30</td>\n      <td>25</td>\n      <td>5</td>\n      <td>35</td>\n      <td>Above-7</td>\n      <td>L</td>\n    </tr>\n    <tr>\n      <th>4</th>\n      <td>M</td>\n      <td>40</td>\n      <td>50</td>\n      <td>12</td>\n      <td>50</td>\n      <td>Above-7</td>\n      <td>M</td>\n    </tr>\n  </tbody>\n</table>\n</div>",
            "text/plain": "  gender  raisedhands  VisITedResources  AnnouncementsView  Discussion  \\\n0      M           15                16                  2          20   \n1      M           20                20                  3          25   \n2      M           10                 7                  0          30   \n3      M           30                25                  5          35   \n4      M           40                50                 12          50   \n\n  StudentAbsenceDays Class  \n0            Under-7     M  \n1            Under-7     M  \n2            Above-7     L  \n3            Above-7     L  \n4            Above-7     M  "
          },
          "metadata": {}
        }
      ]
    },
    {
      "metadata": {},
      "cell_type": "markdown",
      "source": "### Question: What's the relation between raising hands and classification?"
    },
    {
      "metadata": {
        "trusted": true
      },
      "cell_type": "code",
      "source": "df2['raisedhands'] = pd.cut(df2.raisedhands, bins=3, labels=np.arange(3), right=False)\ndf2.groupby(['raisedhands'])['Class'].value_counts(normalize=True)",
      "execution_count": 8,
      "outputs": [
        {
          "output_type": "stream",
          "text": "/home/nbuser/anaconda3_501/lib/python3.6/site-packages/ipykernel/__main__.py:1: SettingWithCopyWarning: \nA value is trying to be set on a copy of a slice from a DataFrame.\nTry using .loc[row_indexer,col_indexer] = value instead\n\nSee the caveats in the documentation: http://pandas.pydata.org/pandas-docs/stable/indexing.html#indexing-view-versus-copy\n  if __name__ == '__main__':\n",
          "name": "stderr"
        },
        {
          "output_type": "execute_result",
          "execution_count": 8,
          "data": {
            "text/plain": "raisedhands  Class\n0            L        0.534314\n             M        0.392157\n             H        0.073529\n1            M        0.577778\n             H        0.288889\n             L        0.133333\n2            H        0.543011\n             M        0.424731\n             L        0.032258\nName: Class, dtype: float64"
          },
          "metadata": {}
        }
      ]
    },
    {
      "metadata": {},
      "cell_type": "markdown",
      "source": "So, it seems that students which has low levels of raising hands are most likely to have Low classification. In the otherside, high frequency of raising hands are linked to higher classification."
    },
    {
      "metadata": {},
      "cell_type": "markdown",
      "source": "Next, we're going to check the act of visiting the course resources."
    },
    {
      "metadata": {
        "trusted": true
      },
      "cell_type": "code",
      "source": "df2['VisITedResources'] = pd.cut(df2.VisITedResources, bins=3, labels=np.arange(3), right=False)\ndf2.groupby(['VisITedResources'])['Class'].value_counts(normalize=True)",
      "execution_count": 9,
      "outputs": [
        {
          "output_type": "stream",
          "text": "/home/nbuser/anaconda3_501/lib/python3.6/site-packages/ipykernel/__main__.py:1: SettingWithCopyWarning: \nA value is trying to be set on a copy of a slice from a DataFrame.\nTry using .loc[row_indexer,col_indexer] = value instead\n\nSee the caveats in the documentation: http://pandas.pydata.org/pandas-docs/stable/indexing.html#indexing-view-versus-copy\n  if __name__ == '__main__':\n",
          "name": "stderr"
        },
        {
          "output_type": "execute_result",
          "execution_count": 9,
          "data": {
            "text/plain": "VisITedResources  Class\n0                 L        0.656250\n                  M        0.293750\n                  H        0.050000\n1                 M        0.560976\n                  H        0.231707\n                  L        0.207317\n2                 M        0.495798\n                  H        0.483193\n                  L        0.021008\nName: Class, dtype: float64"
          },
          "metadata": {}
        }
      ]
    },
    {
      "metadata": {},
      "cell_type": "markdown",
      "source": "Low levels of resource exploring means lower levels of classification. High levels of visiting resources are linked to higher classification."
    },
    {
      "metadata": {
        "trusted": true
      },
      "cell_type": "code",
      "source": "df2['AnnouncementsView'] = pd.cut(df2.AnnouncementsView, bins=3, labels=np.arange(3), right=False)\ndf2.groupby(['AnnouncementsView'])['Class'].value_counts(normalize=True)",
      "execution_count": 10,
      "outputs": [
        {
          "output_type": "stream",
          "text": "/home/nbuser/anaconda3_501/lib/python3.6/site-packages/ipykernel/__main__.py:1: SettingWithCopyWarning: \nA value is trying to be set on a copy of a slice from a DataFrame.\nTry using .loc[row_indexer,col_indexer] = value instead\n\nSee the caveats in the documentation: http://pandas.pydata.org/pandas-docs/stable/indexing.html#indexing-view-versus-copy\n  if __name__ == '__main__':\n",
          "name": "stderr"
        },
        {
          "output_type": "execute_result",
          "execution_count": 10,
          "data": {
            "text/plain": "AnnouncementsView  Class\n0                  L        0.468354\n                   M        0.388186\n                   H        0.143460\n1                  M        0.506667\n                   H        0.393333\n                   L        0.100000\n2                  H        0.526882\n                   M        0.462366\n                   L        0.010753\nName: Class, dtype: float64"
          },
          "metadata": {}
        }
      ]
    },
    {
      "metadata": {},
      "cell_type": "markdown",
      "source": "The act of visualizing the announcements makes the students more prepared for the tasks and they are most likely to plan the assessments of the week. High visualization frequency is lined, indeed, to better classifications."
    },
    {
      "metadata": {
        "trusted": true
      },
      "cell_type": "code",
      "source": "df2['Discussion'] = pd.cut(df2.Discussion, bins=3, labels=np.arange(3), right=False)\ndf2.groupby(['Discussion'])['Class'].value_counts(normalize=True)",
      "execution_count": 11,
      "outputs": [
        {
          "output_type": "stream",
          "text": "/home/nbuser/anaconda3_501/lib/python3.6/site-packages/ipykernel/__main__.py:1: SettingWithCopyWarning: \nA value is trying to be set on a copy of a slice from a DataFrame.\nTry using .loc[row_indexer,col_indexer] = value instead\n\nSee the caveats in the documentation: http://pandas.pydata.org/pandas-docs/stable/indexing.html#indexing-view-versus-copy\n  if __name__ == '__main__':\n",
          "name": "stderr"
        },
        {
          "output_type": "execute_result",
          "execution_count": 11,
          "data": {
            "text/plain": "Discussion  Class\n0           M        0.416290\n            L        0.371041\n            H        0.212670\n1           M        0.538462\n            H        0.253846\n            L        0.207692\n2           H        0.480620\n            M        0.379845\n            L        0.139535\nName: Class, dtype: float64"
          },
          "metadata": {}
        }
      ]
    },
    {
      "metadata": {},
      "cell_type": "markdown",
      "source": "Suprisingly, discussion frequency is weakly linked to higher results, at least, directly. Of course, there are higher interactions levels ocrring with Higher graded students but the data shows that discussion is a secondary act."
    },
    {
      "metadata": {},
      "cell_type": "markdown",
      "source": "Concluding this step on analysis, we're going to understand the absence rate with the grade level"
    },
    {
      "metadata": {
        "trusted": true
      },
      "cell_type": "code",
      "source": "df2.groupby(['StudentAbsenceDays'])['Class'].value_counts(normalize=True)",
      "execution_count": 12,
      "outputs": [
        {
          "output_type": "execute_result",
          "execution_count": 12,
          "data": {
            "text/plain": "StudentAbsenceDays  Class\nAbove-7             L        0.607330\n                    M        0.371728\n                    H        0.020942\nUnder-7             M        0.484429\n                    H        0.477509\n                    L        0.038062\nName: Class, dtype: float64"
          },
          "metadata": {}
        }
      ]
    },
    {
      "metadata": {},
      "cell_type": "markdown",
      "source": "As expected, the lower the absence of the student, the higher tends to become their classification. Let's keep this feature."
    },
    {
      "metadata": {
        "trusted": true
      },
      "cell_type": "markdown",
      "source": "### 4.1.1 Clustering DataSet"
    },
    {
      "metadata": {
        "trusted": true
      },
      "cell_type": "markdown",
      "source": "Now that we know what are the important features to understand the student's behavior and classification, we're going to build a dataset for a K-Means algorithm, which will show the student's cluster."
    },
    {
      "metadata": {},
      "cell_type": "markdown",
      "source": "To make the construction process easiest to understand, we're going to reimplement the dataset building phases."
    },
    {
      "metadata": {
        "trusted": true
      },
      "cell_type": "code",
      "source": "df2 = dataset[['gender','raisedhands','VisITedResources','AnnouncementsView','Discussion','StudentAbsenceDays', 'Class']]\ndf2.tail()\n",
      "execution_count": 13,
      "outputs": [
        {
          "output_type": "execute_result",
          "execution_count": 13,
          "data": {
            "text/html": "<div>\n<style scoped>\n    .dataframe tbody tr th:only-of-type {\n        vertical-align: middle;\n    }\n\n    .dataframe tbody tr th {\n        vertical-align: top;\n    }\n\n    .dataframe thead th {\n        text-align: right;\n    }\n</style>\n<table border=\"1\" class=\"dataframe\">\n  <thead>\n    <tr style=\"text-align: right;\">\n      <th></th>\n      <th>gender</th>\n      <th>raisedhands</th>\n      <th>VisITedResources</th>\n      <th>AnnouncementsView</th>\n      <th>Discussion</th>\n      <th>StudentAbsenceDays</th>\n      <th>Class</th>\n    </tr>\n  </thead>\n  <tbody>\n    <tr>\n      <th>475</th>\n      <td>F</td>\n      <td>5</td>\n      <td>4</td>\n      <td>5</td>\n      <td>8</td>\n      <td>Above-7</td>\n      <td>L</td>\n    </tr>\n    <tr>\n      <th>476</th>\n      <td>F</td>\n      <td>50</td>\n      <td>77</td>\n      <td>14</td>\n      <td>28</td>\n      <td>Under-7</td>\n      <td>M</td>\n    </tr>\n    <tr>\n      <th>477</th>\n      <td>F</td>\n      <td>55</td>\n      <td>74</td>\n      <td>25</td>\n      <td>29</td>\n      <td>Under-7</td>\n      <td>M</td>\n    </tr>\n    <tr>\n      <th>478</th>\n      <td>F</td>\n      <td>30</td>\n      <td>17</td>\n      <td>14</td>\n      <td>57</td>\n      <td>Above-7</td>\n      <td>L</td>\n    </tr>\n    <tr>\n      <th>479</th>\n      <td>F</td>\n      <td>35</td>\n      <td>14</td>\n      <td>23</td>\n      <td>62</td>\n      <td>Above-7</td>\n      <td>L</td>\n    </tr>\n  </tbody>\n</table>\n</div>",
            "text/plain": "    gender  raisedhands  VisITedResources  AnnouncementsView  Discussion  \\\n475      F            5                 4                  5           8   \n476      F           50                77                 14          28   \n477      F           55                74                 25          29   \n478      F           30                17                 14          57   \n479      F           35                14                 23          62   \n\n    StudentAbsenceDays Class  \n475            Above-7     L  \n476            Under-7     M  \n477            Under-7     M  \n478            Above-7     L  \n479            Above-7     L  "
          },
          "metadata": {}
        }
      ]
    },
    {
      "metadata": {},
      "cell_type": "markdown",
      "source": "Let's identify the correlations between the student's actions"
    },
    {
      "metadata": {
        "trusted": true
      },
      "cell_type": "code",
      "source": "correlation = df2[['raisedhands','VisITedResources','AnnouncementsView','Discussion']].corr(method='pearson')\ncorrelation",
      "execution_count": 14,
      "outputs": [
        {
          "output_type": "execute_result",
          "execution_count": 14,
          "data": {
            "text/html": "<div>\n<style scoped>\n    .dataframe tbody tr th:only-of-type {\n        vertical-align: middle;\n    }\n\n    .dataframe tbody tr th {\n        vertical-align: top;\n    }\n\n    .dataframe thead th {\n        text-align: right;\n    }\n</style>\n<table border=\"1\" class=\"dataframe\">\n  <thead>\n    <tr style=\"text-align: right;\">\n      <th></th>\n      <th>raisedhands</th>\n      <th>VisITedResources</th>\n      <th>AnnouncementsView</th>\n      <th>Discussion</th>\n    </tr>\n  </thead>\n  <tbody>\n    <tr>\n      <th>raisedhands</th>\n      <td>1.000000</td>\n      <td>0.691572</td>\n      <td>0.643918</td>\n      <td>0.339386</td>\n    </tr>\n    <tr>\n      <th>VisITedResources</th>\n      <td>0.691572</td>\n      <td>1.000000</td>\n      <td>0.594500</td>\n      <td>0.243292</td>\n    </tr>\n    <tr>\n      <th>AnnouncementsView</th>\n      <td>0.643918</td>\n      <td>0.594500</td>\n      <td>1.000000</td>\n      <td>0.417290</td>\n    </tr>\n    <tr>\n      <th>Discussion</th>\n      <td>0.339386</td>\n      <td>0.243292</td>\n      <td>0.417290</td>\n      <td>1.000000</td>\n    </tr>\n  </tbody>\n</table>\n</div>",
            "text/plain": "                   raisedhands  VisITedResources  AnnouncementsView  \\\nraisedhands           1.000000          0.691572           0.643918   \nVisITedResources      0.691572          1.000000           0.594500   \nAnnouncementsView     0.643918          0.594500           1.000000   \nDiscussion            0.339386          0.243292           0.417290   \n\n                   Discussion  \nraisedhands          0.339386  \nVisITedResources     0.243292  \nAnnouncementsView    0.417290  \nDiscussion           1.000000  "
          },
          "metadata": {}
        }
      ]
    },
    {
      "metadata": {},
      "cell_type": "markdown",
      "source": "This made clear that our best correlated features are raisedHands and visitedResources, which will compose our model dataset further."
    },
    {
      "metadata": {},
      "cell_type": "markdown",
      "source": "So, we need an <b>one hot encoding</b> on columns gender,absence and class"
    },
    {
      "metadata": {
        "trusted": true
      },
      "cell_type": "code",
      "source": "df2 = pd.concat([df2,pd.get_dummies(df2['gender'], prefix='gender_')], axis=1)\ndf2 = pd.concat([df2,pd.get_dummies(df2['StudentAbsenceDays'], prefix='absence_')], axis=1)\ndf2 = pd.concat([df2,pd.get_dummies(df2['Class'], prefix='class_')], axis=1)\n\ndf2.drop(['gender'], axis = 1,inplace=True)\ndf2.drop(['StudentAbsenceDays'], axis = 1,inplace=True)\ndf2.drop(['Class'], axis = 1,inplace=True)\n\ndf2.head()",
      "execution_count": 15,
      "outputs": [
        {
          "output_type": "execute_result",
          "execution_count": 15,
          "data": {
            "text/html": "<div>\n<style scoped>\n    .dataframe tbody tr th:only-of-type {\n        vertical-align: middle;\n    }\n\n    .dataframe tbody tr th {\n        vertical-align: top;\n    }\n\n    .dataframe thead th {\n        text-align: right;\n    }\n</style>\n<table border=\"1\" class=\"dataframe\">\n  <thead>\n    <tr style=\"text-align: right;\">\n      <th></th>\n      <th>raisedhands</th>\n      <th>VisITedResources</th>\n      <th>AnnouncementsView</th>\n      <th>Discussion</th>\n      <th>gender__F</th>\n      <th>gender__M</th>\n      <th>absence__Above-7</th>\n      <th>absence__Under-7</th>\n      <th>class__H</th>\n      <th>class__L</th>\n      <th>class__M</th>\n    </tr>\n  </thead>\n  <tbody>\n    <tr>\n      <th>0</th>\n      <td>15</td>\n      <td>16</td>\n      <td>2</td>\n      <td>20</td>\n      <td>0</td>\n      <td>1</td>\n      <td>0</td>\n      <td>1</td>\n      <td>0</td>\n      <td>0</td>\n      <td>1</td>\n    </tr>\n    <tr>\n      <th>1</th>\n      <td>20</td>\n      <td>20</td>\n      <td>3</td>\n      <td>25</td>\n      <td>0</td>\n      <td>1</td>\n      <td>0</td>\n      <td>1</td>\n      <td>0</td>\n      <td>0</td>\n      <td>1</td>\n    </tr>\n    <tr>\n      <th>2</th>\n      <td>10</td>\n      <td>7</td>\n      <td>0</td>\n      <td>30</td>\n      <td>0</td>\n      <td>1</td>\n      <td>1</td>\n      <td>0</td>\n      <td>0</td>\n      <td>1</td>\n      <td>0</td>\n    </tr>\n    <tr>\n      <th>3</th>\n      <td>30</td>\n      <td>25</td>\n      <td>5</td>\n      <td>35</td>\n      <td>0</td>\n      <td>1</td>\n      <td>1</td>\n      <td>0</td>\n      <td>0</td>\n      <td>1</td>\n      <td>0</td>\n    </tr>\n    <tr>\n      <th>4</th>\n      <td>40</td>\n      <td>50</td>\n      <td>12</td>\n      <td>50</td>\n      <td>0</td>\n      <td>1</td>\n      <td>1</td>\n      <td>0</td>\n      <td>0</td>\n      <td>0</td>\n      <td>1</td>\n    </tr>\n  </tbody>\n</table>\n</div>",
            "text/plain": "   raisedhands  VisITedResources  AnnouncementsView  Discussion  gender__F  \\\n0           15                16                  2          20          0   \n1           20                20                  3          25          0   \n2           10                 7                  0          30          0   \n3           30                25                  5          35          0   \n4           40                50                 12          50          0   \n\n   gender__M  absence__Above-7  absence__Under-7  class__H  class__L  class__M  \n0          1                 0                 1         0         0         1  \n1          1                 0                 1         0         0         1  \n2          1                 1                 0         0         1         0  \n3          1                 1                 0         0         1         0  \n4          1                 1                 0         0         0         1  "
          },
          "metadata": {}
        }
      ]
    },
    {
      "metadata": {
        "trusted": true
      },
      "cell_type": "code",
      "source": "from sklearn.cluster import KMeans\nfrom sklearn import preprocessing",
      "execution_count": 16,
      "outputs": []
    },
    {
      "metadata": {},
      "cell_type": "markdown",
      "source": "So, based on previous exploratory analysis, was possible to identify that raised hands and announcements visualization brings most results respect high classification. So, both features will compound our X axis"
    },
    {
      "metadata": {
        "trusted": true
      },
      "cell_type": "code",
      "source": "X = df2[['raisedhands', 'VisITedResources']].values\n#NORMALIZE OUR ARRAY\nmin_max_scaler = preprocessing.MinMaxScaler()\nx_scaled = min_max_scaler.fit_transform(X)\n#GET X AXIS\nX = pd.DataFrame(x_scaled).values\nX",
      "execution_count": 17,
      "outputs": [
        {
          "output_type": "stream",
          "text": "/home/nbuser/anaconda3_501/lib/python3.6/site-packages/sklearn/utils/validation.py:595: DataConversionWarning: Data with input dtype int64 was converted to float64 by MinMaxScaler.\n  warnings.warn(msg, DataConversionWarning)\n",
          "name": "stderr"
        },
        {
          "output_type": "execute_result",
          "execution_count": 17,
          "data": {
            "text/plain": "array([[0.15      , 0.16161616],\n       [0.2       , 0.2020202 ],\n       [0.1       , 0.07070707],\n       [0.3       , 0.25252525],\n       [0.4       , 0.50505051],\n       [0.42      , 0.3030303 ],\n       [0.35      , 0.12121212],\n       [0.5       , 0.1010101 ],\n       [0.12      , 0.21212121],\n       [0.7       , 0.80808081],\n       [0.5       , 0.88888889],\n       [0.19      , 0.06060606],\n       [0.05      , 0.01010101],\n       [0.2       , 0.14141414],\n       [0.62      , 0.70707071],\n       [0.3       , 0.4040404 ],\n       [0.36      , 0.3030303 ],\n       [0.55      , 0.13131313],\n       [0.69      , 0.15151515],\n       [0.7       , 0.50505051],\n       [0.6       , 0.60606061],\n       [0.1       , 0.12121212],\n       [0.15      , 0.21212121],\n       [0.02      , 0.        ],\n       [0.        , 0.02020202],\n       [0.08      , 0.07070707],\n       [0.19      , 0.19191919],\n       [0.25      , 0.15151515],\n       [0.75      , 0.85858586],\n       [0.3       , 0.90909091],\n       [0.35      , 0.80808081],\n       [0.04      , 0.05050505],\n       [0.02      , 0.19191919],\n       [0.08      , 0.22222222],\n       [0.12      , 0.11111111],\n       [0.1       , 0.12121212],\n       [0.08      , 0.06060606],\n       [0.45      , 0.54545455],\n       [0.        , 0.        ],\n       [0.5       , 0.90909091],\n       [0.14      , 0.13131313],\n       [0.19      , 0.2020202 ],\n       [0.1       , 0.12121212],\n       [0.3       , 0.35353535],\n       [0.33      , 0.33333333],\n       [0.2       , 0.12121212],\n       [0.07      , 0.1010101 ],\n       [0.7       , 0.04040404],\n       [0.13      , 0.80808081],\n       [0.29      , 0.39393939],\n       [0.2       , 0.14141414],\n       [0.39      , 0.15151515],\n       [0.55      , 0.90909091],\n       [0.49      , 0.70707071],\n       [0.12      , 0.50505051],\n       [0.16      , 0.14141414],\n       [0.19      , 0.05050505],\n       [0.05      , 0.02020202],\n       [0.28      , 0.60606061],\n       [0.27      , 0.22222222],\n       [0.21      , 0.1010101 ],\n       [0.5       , 0.70707071],\n       [0.8       , 0.90909091],\n       [0.17      , 0.13131313],\n       [0.        , 0.05050505],\n       [0.13      , 0.05050505],\n       [0.25      , 0.1010101 ],\n       [0.65      , 0.75757576],\n       [0.7       , 0.6969697 ],\n       [0.39      , 0.4040404 ],\n       [0.22      , 0.3030303 ],\n       [0.29      , 0.22222222],\n       [0.11      , 0.02020202],\n       [0.19      , 0.3030303 ],\n       [0.12      , 0.        ],\n       [0.5       , 0.90909091],\n       [0.15      , 0.70707071],\n       [0.2       , 0.80808081],\n       [0.13      , 0.03030303],\n       [0.8       , 0.90909091],\n       [0.08      , 0.15151515],\n       [0.08      , 0.25252525],\n       [0.07      , 0.05050505],\n       [0.07      , 0.04040404],\n       [0.5       , 0.70707071],\n       [0.01      , 0.        ],\n       [0.7       , 0.12121212],\n       [0.19      , 0.70707071],\n       [0.03      , 0.12121212],\n       [0.05      , 0.2020202 ],\n       [0.04      , 0.08080808],\n       [0.8       , 0.90909091],\n       [0.5       , 0.70707071],\n       [0.55      , 0.8989899 ],\n       [0.8       , 0.44444444],\n       [1.        , 0.80808081],\n       [0.14      , 0.60606061],\n       [0.06      , 0.02020202],\n       [0.1       , 0.03030303],\n       [0.5       , 0.07070707],\n       [0.5       , 0.90909091],\n       [0.7       , 0.92929293],\n       [0.02      , 0.06060606],\n       [0.01      , 0.07070707],\n       [0.        , 0.12121212],\n       [0.        , 0.        ],\n       [0.12      , 0.26262626],\n       [0.7       , 0.90909091],\n       [0.07      , 0.12121212],\n       [0.9       , 0.70707071],\n       [0.7       , 0.88888889],\n       [0.77      , 0.80808081],\n       [0.02      , 0.05050505],\n       [0.25      , 0.27272727],\n       [0.11      , 0.02020202],\n       [0.        , 0.08080808],\n       [0.77      , 0.80808081],\n       [0.25      , 0.29292929],\n       [0.24      , 0.35353535],\n       [0.6       , 0.60606061],\n       [0.21      , 0.12121212],\n       [0.        , 0.04040404],\n       [0.66      , 0.90909091],\n       [0.7       , 0.98989899],\n       [0.        , 0.06060606],\n       [0.12      , 0.3030303 ],\n       [0.02      , 0.09090909],\n       [0.55      , 0.33333333],\n       [0.12      , 0.1010101 ],\n       [0.7       , 0.90909091],\n       [0.07      , 0.09090909],\n       [0.8       , 0.42424242],\n       [0.        , 0.03030303],\n       [0.12      , 0.60606061],\n       [0.8       , 0.80808081],\n       [0.7       , 0.80808081],\n       [0.7       , 0.80808081],\n       [0.6       , 0.80808081],\n       [1.        , 0.80808081],\n       [1.        , 0.85858586],\n       [0.1       , 0.60606061],\n       [0.19      , 0.65656566],\n       [0.1       , 0.75757576],\n       [0.8       , 0.90909091],\n       [0.1       , 0.1010101 ],\n       [0.7       , 0.75757576],\n       [1.        , 0.75757576],\n       [0.1       , 0.7979798 ],\n       [0.6       , 0.55555556],\n       [1.        , 0.75757576],\n       [0.8       , 0.80808081],\n       [0.23      , 0.63636364],\n       [1.        , 0.91919192],\n       [0.1       , 0.51515152],\n       [0.7       , 0.50505051],\n       [0.7       , 0.58585859],\n       [0.7       , 0.50505051],\n       [0.7       , 0.50505051],\n       [0.22      , 0.51515152],\n       [0.62      , 0.68686869],\n       [0.82      , 0.8989899 ],\n       [0.72      , 0.80808081],\n       [0.7       , 0.82828283],\n       [0.6       , 0.82828283],\n       [0.55      , 0.72727273],\n       [0.72      , 0.65656566],\n       [0.51      , 0.82828283],\n       [0.8       , 0.92929293],\n       [0.6       , 0.52525253],\n       [0.3       , 0.12121212],\n       [0.4       , 0.62626263],\n       [0.6       , 0.52525253],\n       [0.2       , 0.22222222],\n       [0.2       , 0.52525253],\n       [0.5       , 0.62626263],\n       [0.1       , 0.02020202],\n       [0.6       , 0.52525253],\n       [0.15      , 0.52525253],\n       [0.8       , 0.42424242],\n       [0.4       , 0.51515152],\n       [0.6       , 0.70707071],\n       [0.5       , 0.62626263],\n       [0.85      , 0.75757576],\n       [0.25      , 0.15151515],\n       [0.1       , 0.35353535],\n       [0.87      , 0.65656566],\n       [0.85      , 0.15151515],\n       [0.8       , 0.71717172],\n       [0.75      , 0.71717172],\n       [0.85      , 0.66666667],\n       [0.23      , 0.25252525],\n       [0.15      , 0.25252525],\n       [0.95      , 0.91919192],\n       [0.81      , 0.75757576],\n       [0.53      , 0.75757576],\n       [0.15      , 0.43434343],\n       [0.92      , 0.65656566],\n       [0.83      , 0.75757576],\n       [0.27      , 0.15151515],\n       [0.45      , 0.95959596],\n       [0.15      , 0.90909091],\n       [0.45      , 0.58585859],\n       [0.25      , 0.05050505],\n       [0.22      , 0.51515152],\n       [0.29      , 0.1010101 ],\n       [0.72      , 0.51515152],\n       [0.67      , 0.31313131],\n       [0.17      , 0.21212121],\n       [0.27      , 0.41414141],\n       [0.7       , 0.81818182],\n       [0.27      , 0.90909091],\n       [0.17      , 0.61616162],\n       [0.87      , 0.81818182],\n       [0.07      , 0.61616162],\n       [0.17      , 0.50505051],\n       [0.05      , 0.21212121],\n       [0.27      , 0.41414141],\n       [0.87      , 0.88888889],\n       [0.96      , 0.61616162],\n       [0.57      , 0.51515152],\n       [0.77      , 0.6969697 ],\n       [0.8       , 0.51515152],\n       [0.62      , 0.61616162],\n       [0.72      , 0.83838384],\n       [0.87      , 0.81818182],\n       [0.72      , 0.90909091],\n       [0.02      , 0.11111111],\n       [0.05      , 0.03030303],\n       [0.73      , 0.84848485],\n       [0.05      , 0.17171717],\n       [0.51      , 0.42424242],\n       [0.09      , 0.07070707],\n       [0.19      , 0.72727273],\n       [0.32      , 0.80808081],\n       [0.32      , 0.60606061],\n       [0.12      , 0.08080808],\n       [0.52      , 0.1010101 ],\n       [0.72      , 0.80808081],\n       [0.72      , 0.80808081],\n       [0.92      , 0.80808081],\n       [0.72      , 0.80808081],\n       [0.72      , 0.80808081],\n       [0.22      , 0.2020202 ],\n       [0.12      , 0.2020202 ],\n       [0.7       , 0.92929293],\n       [0.5       , 0.4040404 ],\n       [0.8       , 0.94949495],\n       [0.87      , 0.48484848],\n       [0.7       , 0.4040404 ],\n       [0.65      , 0.86868687],\n       [0.15      , 0.06060606],\n       [0.19      , 0.74747475],\n       [0.69      , 0.76767677],\n       [0.39      , 0.26262626],\n       [0.59      , 0.97979798],\n       [0.1       , 0.17171717],\n       [0.8       , 0.87878788],\n       [0.7       , 1.        ],\n       [0.8       , 0.97979798],\n       [0.69      , 0.34343434],\n       [0.1       , 0.17171717],\n       [0.61      , 0.97979798],\n       [0.21      , 0.27272727],\n       [0.49      , 0.94949495],\n       [0.7       , 0.64646465],\n       [0.79      , 0.84848485],\n       [0.19      , 0.80808081],\n       [0.11      , 0.70707071],\n       [0.1       , 0.08080808],\n       [0.18      , 0.28282828],\n       [0.9       , 0.84848485],\n       [0.92      , 0.81818182],\n       [0.42      , 0.21212121],\n       [0.22      , 0.2020202 ],\n       [0.95      , 0.82828283],\n       [0.9       , 0.62626263],\n       [0.72      , 0.21212121],\n       [0.92      , 0.31313131],\n       [0.82      , 0.31313131],\n       [0.72      , 0.41414141],\n       [0.74      , 0.71717172],\n       [0.74      , 0.60606061],\n       [0.95      , 0.94949495],\n       [0.97      , 0.87878788],\n       [0.4       , 0.38383838],\n       [0.41      , 0.39393939],\n       [0.51      , 0.7979798 ],\n       [0.81      , 0.7979798 ],\n       [0.71      , 0.70707071],\n       [0.75      , 0.71717172],\n       [0.49      , 0.36363636],\n       [0.42      , 0.24242424],\n       [0.9       , 0.86868687],\n       [0.62      , 0.64646465],\n       [0.9       , 0.86868687],\n       [0.62      , 0.64646465],\n       [0.98      , 0.87878788],\n       [0.72      , 0.74747475],\n       [0.18      , 0.17171717],\n       [0.32      , 0.14141414],\n       [0.1       , 0.12121212],\n       [0.22      , 0.34343434],\n       [0.11      , 0.2020202 ],\n       [0.12      , 0.44444444],\n       [0.15      , 0.50505051],\n       [0.32      , 0.44444444],\n       [0.65      , 0.5959596 ],\n       [0.72      , 0.64646465],\n       [0.95      , 0.57575758],\n       [0.82      , 0.84848485],\n       [0.25      , 0.29292929],\n       [0.42      , 0.34343434],\n       [0.55      , 0.7979798 ],\n       [0.62      , 0.64646465],\n       [0.78      , 0.88888889],\n       [0.72      , 0.84848485],\n       [0.6       , 0.92929293],\n       [0.5       , 0.90909091],\n       [0.6       , 0.97979798],\n       [0.5       , 0.95959596],\n       [0.6       , 0.87878788],\n       [0.5       , 0.80808081],\n       [0.1       , 0.15151515],\n       [0.3       , 0.1010101 ],\n       [0.24      , 0.35353535],\n       [0.27      , 0.2020202 ],\n       [0.1       , 0.15151515],\n       [0.3       , 0.1010101 ],\n       [0.8       , 0.77777778],\n       [0.75      , 0.85858586],\n       [0.4       , 0.07070707],\n       [0.35      , 0.02020202],\n       [0.1       , 0.90909091],\n       [0.25      , 0.80808081],\n       [0.1       , 0.08080808],\n       [0.15      , 0.07070707],\n       [0.7       , 0.90909091],\n       [0.75      , 0.80808081],\n       [0.78      , 0.98989899],\n       [0.79      , 0.8989899 ],\n       [0.16      , 0.90909091],\n       [0.17      , 0.80808081],\n       [0.4       , 0.87878788],\n       [0.35      , 0.92929293],\n       [0.14      , 0.97979798],\n       [0.13      , 0.82828283],\n       [0.24      , 0.97979798],\n       [0.23      , 0.82828283],\n       [0.2       , 0.03030303],\n       [0.15      , 0.04040404],\n       [0.05      , 0.13131313],\n       [0.07      , 0.09090909],\n       [0.1       , 0.94949495],\n       [0.25      , 0.8989899 ],\n       [0.3       , 0.98989899],\n       [0.35      , 0.97979798],\n       [0.32      , 0.88888889],\n       [0.25      , 0.87878788],\n       [0.72      , 0.98989899],\n       [0.75      , 0.90909091],\n       [0.2       , 0.88888889],\n       [0.1       , 0.98989899],\n       [0.9       , 0.98989899],\n       [0.8       , 0.88888889],\n       [0.8       , 0.95959596],\n       [0.78      , 0.70707071],\n       [0.1       , 0.18181818],\n       [0.1       , 0.58585859],\n       [0.98      , 0.88888889],\n       [0.75      , 0.81818182],\n       [0.1       , 0.17171717],\n       [0.35      , 0.02020202],\n       [0.1       , 0.2020202 ],\n       [0.05      , 0.09090909],\n       [0.1       , 0.1010101 ],\n       [0.35      , 0.02020202],\n       [0.2       , 0.90909091],\n       [0.32      , 0.82828283],\n       [0.1       , 0.3030303 ],\n       [0.12      , 0.22222222],\n       [0.11      , 0.2020202 ],\n       [0.1       , 0.12121212],\n       [0.69      , 0.82828283],\n       [0.7       , 0.83838384],\n       [0.89      , 0.92929293],\n       [0.79      , 0.93939394],\n       [0.15      , 0.90909091],\n       [0.2       , 0.77777778],\n       [0.04      , 0.1010101 ],\n       [0.05      , 0.        ],\n       [0.88      , 0.81818182],\n       [0.9       , 0.88888889],\n       [0.86      , 0.98989899],\n       [0.9       , 0.90909091],\n       [0.78      , 0.91919192],\n       [0.7       , 0.98989899],\n       [0.8       , 0.80808081],\n       [0.85      , 0.82828283],\n       [0.88      , 0.90909091],\n       [0.89      , 0.92929293],\n       [0.39      , 0.71717172],\n       [0.35      , 0.80808081],\n       [0.76      , 0.81818182],\n       [0.65      , 0.8989899 ],\n       [0.96      , 0.95959596],\n       [0.8       , 0.91919192],\n       [0.02      , 0.09090909],\n       [0.03      , 0.08080808],\n       [0.5       , 0.7979798 ],\n       [0.53      , 0.88888889],\n       [0.7       , 0.8989899 ],\n       [0.59      , 0.90909091],\n       [0.78      , 0.80808081],\n       [0.79      , 0.72727273],\n       [0.1       , 0.09090909],\n       [0.09      , 0.07070707],\n       [0.98      , 0.90909091],\n       [0.89      , 0.92929293],\n       [0.88      , 0.90909091],\n       [0.99      , 0.96969697],\n       [0.82      , 0.8989899 ],\n       [0.84      , 0.92929293],\n       [0.7       , 0.6969697 ],\n       [0.74      , 0.62626263],\n       [0.9       , 0.7979798 ],\n       [0.84      , 0.77777778],\n       [0.8       , 0.80808081],\n       [0.81      , 0.82828283],\n       [0.1       , 0.        ],\n       [0.11      , 0.02020202],\n       [0.85      , 0.8989899 ],\n       [0.8       , 0.8989899 ],\n       [0.95      , 0.87878788],\n       [0.87      , 0.7979798 ],\n       [0.85      , 0.87878788],\n       [0.79      , 0.88888889],\n       [0.8       , 0.81818182],\n       [0.7       , 0.83838384],\n       [0.8       , 0.82828283],\n       [0.7       , 0.82828283],\n       [0.89      , 0.87878788],\n       [0.9       , 0.86868687],\n       [0.69      , 0.77777778],\n       [0.7       , 0.76767677],\n       [0.75      , 0.72727273],\n       [0.72      , 0.76767677],\n       [0.77      , 0.82828283],\n       [0.71      , 0.84848485],\n       [0.87      , 0.92929293],\n       [0.81      , 0.84848485],\n       [0.15      , 0.97979798],\n       [0.19      , 0.98989899],\n       [0.25      , 0.82828283],\n       [0.29      , 0.78787879],\n       [0.45      , 0.87878788],\n       [0.39      , 0.88888889],\n       [0.85      , 0.90909091],\n       [0.79      , 0.91919192],\n       [0.9       , 0.91919192],\n       [0.8       , 0.90909091],\n       [0.8       , 0.83838384],\n       [0.71      , 0.81818182],\n       [0.72      , 0.87878788],\n       [0.69      , 0.77777778],\n       [0.85      , 1.        ],\n       [0.89      , 0.96969697],\n       [0.8       , 0.82828283],\n       [0.87      , 0.93939394],\n       [0.15      , 0.09090909],\n       [0.09      , 0.06060606],\n       [0.81      , 0.86868687],\n       [0.78      , 0.82828283],\n       [0.8       , 0.87878788],\n       [0.85      , 0.88888889],\n       [0.02      , 0.07070707],\n       [0.05      , 0.04040404],\n       [0.5       , 0.77777778],\n       [0.55      , 0.74747475],\n       [0.3       , 0.17171717],\n       [0.35      , 0.14141414]])"
          },
          "metadata": {}
        }
      ]
    },
    {
      "metadata": {},
      "cell_type": "markdown",
      "source": "Using the Elbow Method to find the best K for Kmeans based on our data"
    },
    {
      "metadata": {
        "trusted": true
      },
      "cell_type": "code",
      "source": "wcss = []\n \nfor i in range(1, 11):\n    kmeans = KMeans(n_clusters = i, init = 'k-means++')\n    kmeans.fit(X)\n    #print (i,kmeans.inertia_)\n    wcss.append(kmeans.inertia_)  \nplt.plot(range(1, 11), wcss)\nplt.title('Elbow Method')\nplt.xlabel('N of Clusters')\nplt.ylabel('WSS') #within cluster sum of squares\nplt.show()",
      "execution_count": 18,
      "outputs": [
        {
          "output_type": "display_data",
          "data": {
            "image/png": "[encoded data removed]",
            "text/plain": "<Figure size 432x288 with 1 Axes>"
          },
          "metadata": {
            "needs_background": "light"
          }
        }
      ]
    },
    {
      "metadata": {},
      "cell_type": "markdown",
      "source": "So, the ideal K is 3. Now we are going to build the Kmeans with k=3"
    },
    {
      "metadata": {
        "trusted": true
      },
      "cell_type": "code",
      "source": "kmeans = KMeans(n_clusters = 3, init = 'k-means++')\nkmeans.fit(X)",
      "execution_count": 19,
      "outputs": [
        {
          "output_type": "execute_result",
          "execution_count": 19,
          "data": {
            "text/plain": "KMeans(algorithm='auto', copy_x=True, init='k-means++', max_iter=300,\n    n_clusters=3, n_init=10, n_jobs=None, precompute_distances='auto',\n    random_state=None, tol=0.0001, verbose=0)"
          },
          "metadata": {}
        }
      ]
    },
    {
      "metadata": {
        "trusted": true
      },
      "cell_type": "code",
      "source": "k_means_labels = kmeans.labels_\nk_means_cluster_centers = kmeans.cluster_centers_",
      "execution_count": 20,
      "outputs": []
    },
    {
      "metadata": {
        "trusted": true
      },
      "cell_type": "code",
      "source": "import matplotlib.pyplot as plt\n\nplt.scatter(X[:, 0], X[:,1], s = 10, c = kmeans.labels_)\nplt.scatter(kmeans.cluster_centers_[:, 0], kmeans.cluster_centers_[:, 1], s = 30, c = 'red',label = 'Centroids')\nplt.title('Students Clustering')\nplt.xlabel('RaisedHands')\nplt.ylabel('VisITedResources')\nplt.legend()\n\nplt.show()",
      "execution_count": 21,
      "outputs": [
        {
          "output_type": "display_data",
          "data": {
            "image/png": "[encoded data removed]",
            "text/plain": "<Figure size 432x288 with 1 Axes>"
          },
          "metadata": {
            "needs_background": "light"
          }
        }
      ]
    },
    {
      "metadata": {
        "trusted": true
      },
      "cell_type": "markdown",
      "source": "So, now we can see 3 clusters: \n* High applied Students (Green)\n* Mid Applied Students (Yellow)\n* Low Applied Students (Purple)"
    },
    {
      "metadata": {},
      "cell_type": "markdown",
      "source": "### 4.1.2 Building a supervised algorithm"
    },
    {
      "metadata": {},
      "cell_type": "markdown",
      "source": "Now it's time to build a model to predict the student's classification based on his actions on the Online Learning enviroment."
    },
    {
      "metadata": {
        "trusted": true
      },
      "cell_type": "code",
      "source": "df3 = dataset[['raisedhands','VisITedResources','AnnouncementsView','Discussion','Class']]\ndf3.head()",
      "execution_count": 22,
      "outputs": [
        {
          "output_type": "execute_result",
          "execution_count": 22,
          "data": {
            "text/html": "<div>\n<style scoped>\n    .dataframe tbody tr th:only-of-type {\n        vertical-align: middle;\n    }\n\n    .dataframe tbody tr th {\n        vertical-align: top;\n    }\n\n    .dataframe thead th {\n        text-align: right;\n    }\n</style>\n<table border=\"1\" class=\"dataframe\">\n  <thead>\n    <tr style=\"text-align: right;\">\n      <th></th>\n      <th>raisedhands</th>\n      <th>VisITedResources</th>\n      <th>AnnouncementsView</th>\n      <th>Discussion</th>\n      <th>Class</th>\n    </tr>\n  </thead>\n  <tbody>\n    <tr>\n      <th>0</th>\n      <td>15</td>\n      <td>16</td>\n      <td>2</td>\n      <td>20</td>\n      <td>M</td>\n    </tr>\n    <tr>\n      <th>1</th>\n      <td>20</td>\n      <td>20</td>\n      <td>3</td>\n      <td>25</td>\n      <td>M</td>\n    </tr>\n    <tr>\n      <th>2</th>\n      <td>10</td>\n      <td>7</td>\n      <td>0</td>\n      <td>30</td>\n      <td>L</td>\n    </tr>\n    <tr>\n      <th>3</th>\n      <td>30</td>\n      <td>25</td>\n      <td>5</td>\n      <td>35</td>\n      <td>L</td>\n    </tr>\n    <tr>\n      <th>4</th>\n      <td>40</td>\n      <td>50</td>\n      <td>12</td>\n      <td>50</td>\n      <td>M</td>\n    </tr>\n  </tbody>\n</table>\n</div>",
            "text/plain": "   raisedhands  VisITedResources  AnnouncementsView  Discussion Class\n0           15                16                  2          20     M\n1           20                20                  3          25     M\n2           10                 7                  0          30     L\n3           30                25                  5          35     L\n4           40                50                 12          50     M"
          },
          "metadata": {}
        }
      ]
    },
    {
      "metadata": {
        "trusted": true
      },
      "cell_type": "markdown",
      "source": "Extract our dependent variable Y"
    },
    {
      "metadata": {
        "trusted": true
      },
      "cell_type": "code",
      "source": "y = df3['Class'].values\ny[0:5]",
      "execution_count": 23,
      "outputs": [
        {
          "output_type": "execute_result",
          "execution_count": 23,
          "data": {
            "text/plain": "array(['M', 'M', 'L', 'L', 'M'], dtype=object)"
          },
          "metadata": {}
        }
      ]
    },
    {
      "metadata": {},
      "cell_type": "markdown",
      "source": "Gets X independent variables and normalize them"
    },
    {
      "metadata": {
        "trusted": true
      },
      "cell_type": "code",
      "source": "X = df3[['raisedhands', 'VisITedResources', 'AnnouncementsView', 'Discussion']].values\nX= preprocessing.StandardScaler().fit(X).transform(X)\nX[:5]",
      "execution_count": 24,
      "outputs": [
        {
          "output_type": "stream",
          "text": "/home/nbuser/anaconda3_501/lib/python3.6/site-packages/sklearn/utils/validation.py:595: DataConversionWarning: Data with input dtype int64 was converted to float64 by StandardScaler.\n  warnings.warn(msg, DataConversionWarning)\n/home/nbuser/anaconda3_501/lib/python3.6/site-packages/sklearn/utils/validation.py:595: DataConversionWarning: Data with input dtype int64 was converted to float64 by StandardScaler.\n  warnings.warn(msg, DataConversionWarning)\n",
          "name": "stderr"
        },
        {
          "output_type": "execute_result",
          "execution_count": 24,
          "data": {
            "text/plain": "array([[-1.03342931, -1.17407456, -1.35116659, -0.84332615],\n       [-0.87081258, -1.05302945, -1.31354928, -0.66222533],\n       [-1.19604604, -1.44642607, -1.4264012 , -0.48112451],\n       [-0.54557912, -0.90172306, -1.23831467, -0.30002369],\n       [-0.22034567, -0.14519109, -0.97499354,  0.24327877]])"
          },
          "metadata": {}
        }
      ]
    },
    {
      "metadata": {},
      "cell_type": "markdown",
      "source": "Now, we're going to check the accuracy and performance of the following models:\n\n* K Nearest Neighbor(KNN)\n* Decision Tree\n* Support Vector Machine\n* Logistic Regression"
    },
    {
      "metadata": {},
      "cell_type": "markdown",
      "source": "Create the train | test sets"
    },
    {
      "metadata": {
        "trusted": true
      },
      "cell_type": "code",
      "source": "from sklearn.model_selection import train_test_split\n\nX_train, X_test, y_train, y_test = train_test_split( X, y, test_size=0.2, random_state=4)\n\nprint ('Train set:', X_train.shape,  y_train.shape)\nprint ('Test set:', X_test.shape,  y_test.shape)",
      "execution_count": 25,
      "outputs": [
        {
          "output_type": "stream",
          "text": "Train set: (384, 4) (384,)\nTest set: (96, 4) (96,)\n",
          "name": "stdout"
        }
      ]
    },
    {
      "metadata": {},
      "cell_type": "markdown",
      "source": "#### KNN"
    },
    {
      "metadata": {
        "trusted": true
      },
      "cell_type": "code",
      "source": "from sklearn.neighbors import KNeighborsClassifier\nfrom sklearn import metrics\n\nKs = 10\nmean_acc = np.zeros((Ks-1))\nstd_acc = np.zeros((Ks-1))\nConfustionMx = [];\nfor n in range(1,Ks):\n    \n    #Train Model and Predict  \n    neigh = KNeighborsClassifier(n_neighbors = n).fit(X_train,y_train)\n    yhat=neigh.predict(X_test)\n    mean_acc[n-1] = metrics.accuracy_score(y_test, yhat)\n\n    \n    std_acc[n-1]=np.std(yhat==y_test)/np.sqrt(yhat.shape[0])\n\nprint( \"The best accuracy was with\", mean_acc.max(), \"with k=\", mean_acc.argmax()+1) ",
      "execution_count": 26,
      "outputs": [
        {
          "output_type": "stream",
          "text": "The best accuracy was with 0.6458333333333334 with k= 4\n",
          "name": "stdout"
        }
      ]
    },
    {
      "metadata": {
        "trusted": true
      },
      "cell_type": "code",
      "source": "#REBUILDING THE MODEL WITH BEST K\nk = 4\n#Train Model and Predict  \nneigh = KNeighborsClassifier(n_neighbors = k).fit(X_train,y_train)\nneigh",
      "execution_count": 27,
      "outputs": [
        {
          "output_type": "execute_result",
          "execution_count": 27,
          "data": {
            "text/plain": "KNeighborsClassifier(algorithm='auto', leaf_size=30, metric='minkowski',\n           metric_params=None, n_jobs=None, n_neighbors=4, p=2,\n           weights='uniform')"
          },
          "metadata": {}
        }
      ]
    },
    {
      "metadata": {},
      "cell_type": "markdown",
      "source": "#### Decision Tree"
    },
    {
      "metadata": {
        "trusted": true
      },
      "cell_type": "code",
      "source": "from sklearn.tree import DecisionTreeClassifier\nDtree = DecisionTreeClassifier(criterion=\"entropy\", max_depth = 4)\nDtree.fit(X_train,y_train)\nDtree",
      "execution_count": 28,
      "outputs": [
        {
          "output_type": "execute_result",
          "execution_count": 28,
          "data": {
            "text/plain": "DecisionTreeClassifier(class_weight=None, criterion='entropy', max_depth=4,\n            max_features=None, max_leaf_nodes=None,\n            min_impurity_decrease=0.0, min_impurity_split=None,\n            min_samples_leaf=1, min_samples_split=2,\n            min_weight_fraction_leaf=0.0, presort=False, random_state=None,\n            splitter='best')"
          },
          "metadata": {}
        }
      ]
    },
    {
      "metadata": {},
      "cell_type": "markdown",
      "source": "#### Suport Vector Machine - SVM"
    },
    {
      "metadata": {
        "trusted": true
      },
      "cell_type": "code",
      "source": "from sklearn import svm\nsupMac = svm.SVC(kernel='rbf', gamma='auto')\nsupMac.fit(X_train, y_train) ",
      "execution_count": 29,
      "outputs": [
        {
          "output_type": "execute_result",
          "execution_count": 29,
          "data": {
            "text/plain": "SVC(C=1.0, cache_size=200, class_weight=None, coef0=0.0,\n  decision_function_shape='ovr', degree=3, gamma='auto', kernel='rbf',\n  max_iter=-1, probability=False, random_state=None, shrinking=True,\n  tol=0.001, verbose=False)"
          },
          "metadata": {}
        }
      ]
    },
    {
      "metadata": {},
      "cell_type": "markdown",
      "source": "#### Logistic Regression"
    },
    {
      "metadata": {
        "trusted": true
      },
      "cell_type": "code",
      "source": "from sklearn.linear_model import LogisticRegression\nLR = LogisticRegression(C=0.01, solver='liblinear', multi_class='auto').fit(X_train,y_train)\nLR",
      "execution_count": 30,
      "outputs": [
        {
          "output_type": "execute_result",
          "execution_count": 30,
          "data": {
            "text/plain": "LogisticRegression(C=0.01, class_weight=None, dual=False, fit_intercept=True,\n          intercept_scaling=1, max_iter=100, multi_class='auto',\n          n_jobs=None, penalty='l2', random_state=None, solver='liblinear',\n          tol=0.0001, verbose=0, warm_start=False)"
          },
          "metadata": {}
        }
      ]
    },
    {
      "metadata": {},
      "cell_type": "markdown",
      "source": "### Model Performance"
    },
    {
      "metadata": {
        "trusted": true
      },
      "cell_type": "code",
      "source": "from sklearn.metrics import jaccard_similarity_score\nfrom sklearn.metrics import f1_score\nfrom sklearn.metrics import log_loss",
      "execution_count": 31,
      "outputs": []
    },
    {
      "metadata": {
        "trusted": true
      },
      "cell_type": "code",
      "source": "knn_yhat = neigh.predict(X_test)\nprint(\"KNN Jaccard index: %.2f\" % jaccard_similarity_score(y_test, knn_yhat))\nprint(\"KNN F1-score: %.2f\" % f1_score(y_test, knn_yhat, average='weighted') )",
      "execution_count": 32,
      "outputs": [
        {
          "output_type": "stream",
          "text": "KNN Jaccard index: 0.65\nKNN F1-score: 0.64\n",
          "name": "stdout"
        }
      ]
    },
    {
      "metadata": {
        "trusted": true
      },
      "cell_type": "code",
      "source": "dtree_yhat = Dtree.predict(X_test)\nprint(\"Decision Tree Jaccard index: %.2f\" % jaccard_similarity_score(y_test, dtree_yhat))\nprint(\"Decision Tree F1-score: %.2f\" % f1_score(y_test, dtree_yhat, average='weighted') )",
      "execution_count": 33,
      "outputs": [
        {
          "output_type": "stream",
          "text": "Decision Tree Jaccard index: 0.59\nDecision Tree F1-score: 0.60\n",
          "name": "stdout"
        }
      ]
    },
    {
      "metadata": {
        "trusted": true
      },
      "cell_type": "code",
      "source": "svm_yhat = supMac.predict(X_test)\nprint(\"SVM Jaccard index: %.2f\" % jaccard_similarity_score(y_test, svm_yhat))\nprint(\"SVM F1-score: %.2f\" % f1_score(y_test, svm_yhat, average='weighted') )",
      "execution_count": 34,
      "outputs": [
        {
          "output_type": "stream",
          "text": "SVM Jaccard index: 0.60\nSVM F1-score: 0.60\n",
          "name": "stdout"
        }
      ]
    },
    {
      "metadata": {
        "trusted": true
      },
      "cell_type": "code",
      "source": "LR_yhat = LR.predict(X_test)\nLR_yhat_prob = LR.predict_proba(X_test)\nprint(\"LR Jaccard index: %.2f\" % jaccard_similarity_score(y_test, LR_yhat))\nprint(\"LR F1-score: %.2f\" % f1_score(y_test, LR_yhat, average='weighted') )\nprint(\"LR LogLoss: %.2f\" % log_loss(y_test, LR_yhat_prob))",
      "execution_count": 35,
      "outputs": [
        {
          "output_type": "stream",
          "text": "LR Jaccard index: 0.62\nLR F1-score: 0.61\nLR LogLoss: 0.90\n",
          "name": "stdout"
        }
      ]
    },
    {
      "metadata": {},
      "cell_type": "markdown",
      "source": "# Results and Discussion"
    },
    {
      "metadata": {},
      "cell_type": "markdown",
      "source": "The presented research focused in data analytics and building a machine learning model to understand the student's behavior and classification under online learning courses.\nThe results concluded some points:\n* Parents active participation and tracking are important. Absent parents are linked to absent students and more unsatisfaction with the school.\n* Students who read announcements and visit the course resources are most likely to have higher classification.\n* Actions related to discussions are less likely to improve student's classification.\n"
    },
    {
      "metadata": {},
      "cell_type": "markdown",
      "source": "As a final result, a predictive model is offered in order to help the online platforms to understand the student's acts and take decisions. The best model was the K-Nearest neighbors with k=4 and accuracy of 0.65 Jaccard Index.\nFinally, it is important to mention that location data was not possible to be used. That's because it refers to Born location of the student and this is not a important feature. So, it could be a more important data the place where the student was conected, because the high absence levels could be related to poor Internet connection areas, like conflicted-areas and under development countries. So, this research can be used as a starting point for further works and model adaptation."
    },
    {
      "metadata": {},
      "cell_type": "markdown",
      "source": "# Conclusion"
    },
    {
      "metadata": {},
      "cell_type": "markdown",
      "source": "Data analytics and Data Science are vital fields for improving Online Courses experience. Set the right content for the right student is a complex but essential task to keep the students enrolled, motivated and getting high classification. This will, with no doubt, improve education levels of their countries and help to improve their economy. Despite that, online learning has a potential value for increasing society levels."
    },
    {
      "metadata": {
        "trusted": true
      },
      "cell_type": "code",
      "source": "",
      "execution_count": null,
      "outputs": []
    }
  ],
  "metadata": {
    "kernelspec": {
      "name": "python36",
      "display_name": "Python 3.6",
      "language": "python"
    },
    "language_info": {
      "mimetype": "text/x-python",
      "nbconvert_exporter": "python",
      "name": "python",
      "pygments_lexer": "ipython3",
      "version": "3.6.6",
      "file_extension": ".py",
      "codemirror_mode": {
        "version": 3,
        "name": "ipython"
      }
    }
  },
  "nbformat": 4,
  "nbformat_minor": 2
}